{
 "cells": [
  {
   "cell_type": "code",
   "execution_count": null,
   "id": "ba9c8362-9d3f-4c38-8d11-4063198b2e98",
   "metadata": {},
   "outputs": [],
   "source": [
    "# 1. Statistics is the science of collecting, organising, and analyzing data."
   ]
  },
  {
   "cell_type": "code",
   "execution_count": null,
   "id": "e82d4299-9991-41b3-86d0-f0e4926cb396",
   "metadata": {},
   "outputs": [],
   "source": [
    "# 2.\n",
    "# Descriptive Stats and Inferential Stats.\n"
   ]
  },
  {
   "cell_type": "code",
   "execution_count": null,
   "id": "cd313f28-5e26-42cc-a4b8-6752dcbd0933",
   "metadata": {},
   "outputs": [],
   "source": [
    "# 3.\n",
    "# Data is brodally divided in two categories Quantitative(numerical data) and Qualitative data(categorical data)"
   ]
  },
  {
   "cell_type": "code",
   "execution_count": null,
   "id": "f9f739c9-351b-4fe1-b7c0-68fd760e5e97",
   "metadata": {},
   "outputs": [],
   "source": [
    "# 4.\n",
    "\n",
    "#   1) Qualitative data\n",
    "#   2) Qualitative data\n",
    "#   3) Quantitative data\n",
    "#   4) Quantitative data  \n",
    "\n"
   ]
  },
  {
   "cell_type": "code",
   "execution_count": null,
   "id": "39eaedad-afb9-4a60-8699-8ab1908748b9",
   "metadata": {},
   "outputs": [],
   "source": [
    "# 5.\n",
    "\n",
    "# Levels of measurement categorize variables based on their properties. Nominal variables are qualitative and can only be grouped into distinct categories, such as gender or marital status.\n",
    "# Ordinal variables possess an order or rank, but the differences between categories are not necessarily equal, like rating scales. Interval variables have equal and meaningful differences between values, but lack a true zero point,\n",
    "# such as temperature measured in Celsius or Fahrenheit. Ratio variables have equal differences between values and a meaningful zero point, like height or income.\n",
    "# The level of measurement determines the statistical analyses that can be applied, with nominal variables using non-parametric tests and ordinal, interval, and ratio variables enabling more advanced analysis.\n",
    "\n",
    "\n",
    "\n",
    "\n"
   ]
  },
  {
   "cell_type": "code",
   "execution_count": null,
   "id": "684c2549-ffac-4f4d-a5a9-59f5f877ab3f",
   "metadata": {},
   "outputs": [],
   "source": [
    "# 6.\n",
    "#  Different levels of measurement have different properties and constraints, and using an inappropriate\n",
    "#  analysis method can lead to incorrect conclusions or misleading interpretations.\n",
    "# Understanding the level of measurement when analyzing data is important because it determines which statistical\n",
    "# techniques are appropriate. Using the wrong analysis method can lead to incorrect conclusions. For example,\n",
    "# analyzing nominal data with interval or ratio techniques can result in misleading interpretations. Similarly,\n",
    "# using inappropriate techniques for interval or ratio data can yield inaccurate results.\n",
    "# By correctly identifying the level of measurement, analysts can choose the right statistical tools and ensure accurate\n",
    "# and meaningful data analysis."
   ]
  },
  {
   "cell_type": "code",
   "execution_count": null,
   "id": "8b063408-0da9-47a6-883d-059af06aada4",
   "metadata": {},
   "outputs": [],
   "source": [
    "# 7.Nominal data and ordinal data are the type of qualitative data .In measurement level nominal data is classified as\n",
    "# a lower level of measurement than ordinal data. Nominal data only provides information about groupings or categories,\n",
    "# without any information about the magnitude of differences or the direction of the relationship between categories. \n",
    "# Ordinal data, while still qualitative in nature, offers a higher level of measurement due to the ordered nature of the\n",
    "# categories."
   ]
  },
  {
   "cell_type": "code",
   "execution_count": null,
   "id": "0e62f747-3764-4966-83bb-497f6942adcb",
   "metadata": {},
   "outputs": [],
   "source": [
    "# 8.\n",
    "# A box plot is commonly used to display data in terms of its range.\n",
    "# It provides a visual representation of the minimum, maximum, median, and quartiles of a dataset. \n",
    "# The length of the plot represents the range, with the whiskers indicating the minimum and maximum values.\n",
    "# The box represents the interquartile range (IQR), and the median is shown as a line within the box.\n",
    "# Box plots allow for a quick understanding of the spread and variability of the data and facilitate the comparison of\n",
    "# multiple datasets.\n"
   ]
  },
  {
   "cell_type": "code",
   "execution_count": null,
   "id": "f6ab3974-0e27-4ac9-8a5f-c06d48242fbd",
   "metadata": {},
   "outputs": [],
   "source": [
    "# 9.\n",
    "# Descriptive statistics summarize and describe data, providing measures and graphical representations\n",
    "# without making inferences about a population. For example, the mean is a descriptive statistic that gives the \n",
    "# average of a dataset. Inferential statistics, on the other hand, make inferences and draw conclusions about a\n",
    "# population based on sample data. They use probability theory and statistical techniques to estimate parameters \n",
    "# and test hypotheses. For instance, inferential statistics are used to determine if a new drug is effective by \n",
    "# analyzing data from a sample of patients.\n"
   ]
  },
  {
   "cell_type": "code",
   "execution_count": null,
   "id": "2f62588a-e742-43a4-a0a8-6a8f4bae6e1c",
   "metadata": {},
   "outputs": [],
   "source": [
    "# 10.\n",
    "\n",
    "# Mean , Median , Mode\n",
    "\n",
    "# mean deals with the averaging, median calculation is best suited for the data set in which outliers are present."
   ]
  }
 ],
 "metadata": {
  "kernelspec": {
   "display_name": "Python 3 (ipykernel)",
   "language": "python",
   "name": "python3"
  },
  "language_info": {
   "codemirror_mode": {
    "name": "ipython",
    "version": 3
   },
   "file_extension": ".py",
   "mimetype": "text/x-python",
   "name": "python",
   "nbconvert_exporter": "python",
   "pygments_lexer": "ipython3",
   "version": "3.10.8"
  }
 },
 "nbformat": 4,
 "nbformat_minor": 5
}
